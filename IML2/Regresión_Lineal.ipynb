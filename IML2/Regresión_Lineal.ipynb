{
  "nbformat": 4,
  "nbformat_minor": 0,
  "metadata": {
    "kernelspec": {
      "display_name": "Python 3",
      "language": "python",
      "name": "python3"
    },
    "latex_envs": {
      "LaTeX_envs_menu_present": true,
      "autoclose": false,
      "autocomplete": true,
      "bibliofile": "biblio.bib",
      "cite_by": "apalike",
      "current_citInitial": 1,
      "eqLabelWithNumbers": true,
      "eqNumInitial": 1,
      "hotkeys": {
        "equation": "Ctrl-E",
        "itemize": "Ctrl-I"
      },
      "labels_anchors": false,
      "latex_user_defs": false,
      "report_style_numbering": false,
      "user_envs_cfg": false
    },
    "varInspector": {
      "cols": {
        "lenName": 16,
        "lenType": 16,
        "lenVar": 40
      },
      "kernels_config": {
        "python": {
          "delete_cmd_postfix": "",
          "delete_cmd_prefix": "del ",
          "library": "var_list.py",
          "varRefreshCmd": "print(var_dic_list())"
        },
        "r": {
          "delete_cmd_postfix": ") ",
          "delete_cmd_prefix": "rm(",
          "library": "var_list.r",
          "varRefreshCmd": "cat(var_dic_list()) "
        }
      },
      "types_to_exclude": [
        "module",
        "function",
        "builtin_function_or_method",
        "instance",
        "_Feature"
      ],
      "window_display": false
    },
    "colab": {
      "name": "Regresión Lineal.ipynb",
      "provenance": [],
      "toc_visible": true,
      "include_colab_link": true
    }
  },
  "cells": [
    {
      "cell_type": "markdown",
      "metadata": {
        "id": "view-in-github",
        "colab_type": "text"
      },
      "source": [
        "<a href=\"https://colab.research.google.com/github/santiagoruizs/IIoT_CIM_UPC/blob/master/IML2/Regresio%CC%81n_Lineal.ipynb\" target=\"_parent\"><img src=\"https://colab.research.google.com/assets/colab-badge.svg\" alt=\"Open In Colab\"/></a>"
      ]
    },
    {
      "cell_type": "markdown",
      "metadata": {
        "id": "pS_G5aNbS985",
        "colab_type": "text"
      },
      "source": [
        "# Regresión lineal\n",
        "\n",
        "Para este ejemplo, el dataset de ejemplo de Regresion Lineal de Kaggle . Podeis encontrar el dataset y la explicación en el siguiente linkÑ https://www.kaggle.com/andonians/random-linear-regression/data. Poner los datasets, el train.csv y el test.csv en una carpeta que se llame Data. Para haceros la vida más facil, he *giteado* tambien los datos en la carpeta Data."
      ]
    },
    {
      "cell_type": "code",
      "metadata": {
        "id": "3yhzOcGvS988",
        "colab_type": "code",
        "colab": {}
      },
      "source": [
        "import pandas as pd\n",
        "import numpy as np\n",
        "import matplotlib.pyplot as plt\n",
        "from sklearn.linear_model import LinearRegression \n",
        "from sklearn.metrics import r2_score\n",
        "from sklearn.metrics import mean_squared_error"
      ],
      "execution_count": 0,
      "outputs": []
    },
    {
      "cell_type": "markdown",
      "metadata": {
        "id": "V8ss1U99S99L",
        "colab_type": "text"
      },
      "source": [
        "Vamos ahora a cojer los datos y a visualizarlos. Para hacernos la vida más fácil, tal y como ya hicimos en el ejemplo anterior, usaremos DataFrames."
      ]
    },
    {
      "cell_type": "code",
      "metadata": {
        "id": "oKXfxsHYS99O",
        "colab_type": "code",
        "colab": {}
      },
      "source": [
        "df_train = pd.read_csv('train.csv')\n",
        "df_test = pd.read_csv('test.csv')\n",
        "\n",
        "x_train = df_train['x']\n",
        "y_train = df_train['y']\n",
        "x_test = df_test['x']\n",
        "y_test = df_test['y']\n",
        "\n",
        "x_train = np.array(x_train)\n",
        "y_train = np.array(y_train)\n",
        "x_test = np.array(x_test)\n",
        "y_test = np.array(y_test)\n",
        "\n",
        "x_train = x_train.reshape(-1,1)\n",
        "x_test = x_test.reshape(-1,1)"
      ],
      "execution_count": 0,
      "outputs": []
    },
    {
      "cell_type": "markdown",
      "metadata": {
        "id": "LAxoaYnzS99W",
        "colab_type": "text"
      },
      "source": [
        "Vamos ahora a mostrar los datos para entenderlos:"
      ]
    },
    {
      "cell_type": "code",
      "metadata": {
        "id": "Bg_heqNSS99X",
        "colab_type": "code",
        "colab": {
          "base_uri": "https://localhost:8080/",
          "height": 346
        },
        "outputId": "17eca1a8-6972-4fc8-9d2e-ff15644cdf98"
      },
      "source": [
        "plt.figure(figsize=(20,20))\n",
        "fig, (ax1, ax2) = plt.subplots(1, 2)\n",
        "ax1.plot(x_train, y_train,'.')\n",
        "ax1.set(xlabel='X axis', ylabel='Y axis')\n",
        "ax1.set(title='Training Set')\n",
        "\n",
        "ax2.plot(x_test, y_test,'.',color='red')\n",
        "ax2.set(xlabel='X axis', ylabel='Y axis')\n",
        "ax2.set(title='Test Set')\n",
        "\n",
        "print(\"Este dataset contiene {} elementos en el trainingset\".format(x_train.shape))\n",
        "print(\"Este dataset contiene {} elementos en el testset\".format(x_test.shape))"
      ],
      "execution_count": 12,
      "outputs": [
        {
          "output_type": "stream",
          "text": [
            "Este dataset contiene (699, 1) elementos en el trainingset\n",
            "Este dataset contiene (300, 1) elementos en el testset\n"
          ],
          "name": "stdout"
        },
        {
          "output_type": "display_data",
          "data": {
            "text/plain": [
              "<Figure size 1440x1440 with 0 Axes>"
            ]
          },
          "metadata": {
            "tags": []
          }
        },
        {
          "output_type": "display_data",
          "data": {
            "image/png": "[encoded data removed]",
            "text/plain": [
              "<Figure size 432x288 with 2 Axes>"
            ]
          },
          "metadata": {
            "tags": [],
            "needs_background": "light"
          }
        }
      ]
    },
    {
      "cell_type": "markdown",
      "metadata": {
        "id": "GTJxkgZoS9-2",
        "colab_type": "text"
      },
      "source": [
        "Ahora que entendemos como son los datos, vamos a usar directamente la libreria de Scikit Learn para ver la solución."
      ]
    },
    {
      "cell_type": "code",
      "metadata": {
        "id": "tV6tEnEmS9-3",
        "colab_type": "code",
        "colab": {
          "base_uri": "https://localhost:8080/",
          "height": 69
        },
        "outputId": "5bab48f2-1683-4cef-bedb-b5508ab96d06"
      },
      "source": [
        "clf = LinearRegression(normalize=True)\n",
        "\n",
        "clf.fit(x_train,y_train)\n",
        "\n",
        "y_pred = clf.predict(x_test)\n",
        "\n",
        "print(\"El R2 es: {}\".format(r2_score(y_test,y_pred)))\n",
        "print(\"El pendiente es: {}\".format(clf.coef_))\n",
        "print(\"El intercept es: {}\".format(clf.intercept_))"
      ],
      "execution_count": 18,
      "outputs": [
        {
          "output_type": "stream",
          "text": [
            "El R2 es: 0.9888014444327563\n",
            "El pendiente es: [1.00065638]\n",
            "El intercept es: -0.10726546430097983\n"
          ],
          "name": "stdout"
        }
      ]
    },
    {
      "cell_type": "markdown",
      "metadata": {
        "id": "smeu2uWjS9_H",
        "colab_type": "text"
      },
      "source": [
        "Vemos que la regresión lineal que hemos generado nos da un $R^2$ elevado, vemos entonces que hemos hecho una buena aproximación a los datos. ¿Qué pasa si no normalizamos? Veamos que recta de regresión lineal hemos encontrado."
      ]
    },
    {
      "cell_type": "code",
      "metadata": {
        "id": "cAqDAbmWS9_K",
        "colab_type": "code",
        "colab": {
          "base_uri": "https://localhost:8080/",
          "height": 592
        },
        "outputId": "a9dcfc1d-81cd-47b0-94a6-a88e088478af"
      },
      "source": [
        "plt.figure(figsize=(10,10))\n",
        "plt.scatter(x_test,y_test,color='red')\n",
        "plt.plot(x_test,y_pred,color='black')\n",
        "plt.show()"
      ],
      "execution_count": 19,
      "outputs": [
        {
          "output_type": "display_data",
          "data": {
            "image/png": "[encoded data removed]",
            "text/plain": [
              "<Figure size 720x720 with 1 Axes>"
            ]
          },
          "metadata": {
            "tags": [],
            "needs_background": "light"
          }
        }
      ]
    },
    {
      "cell_type": "markdown",
      "metadata": {
        "id": "TW_pRugwS9_S",
        "colab_type": "text"
      },
      "source": [
        "Veamos ahora los residuales:"
      ]
    },
    {
      "cell_type": "code",
      "metadata": {
        "id": "EA3pp7ocS9_T",
        "colab_type": "code",
        "colab": {
          "base_uri": "https://localhost:8080/",
          "height": 592
        },
        "outputId": "9eed225f-bf72-4a75-f362-852a873ba959"
      },
      "source": [
        "plt.figure(figsize=(10,10))\n",
        "plt.scatter(x_test,y_test-y_pred,color='red')\n",
        "plt.plot(x_test,y_pred-y_pred,color='black')\n",
        "plt.show()"
      ],
      "execution_count": 20,
      "outputs": [
        {
          "output_type": "display_data",
          "data": {
            "image/png": "[encoded data removed]",
            "text/plain": [
              "<Figure size 720x720 with 1 Axes>"
            ]
          },
          "metadata": {
            "tags": [],
            "needs_background": "light"
          }
        }
      ]
    },
    {
      "cell_type": "markdown",
      "metadata": {
        "id": "TsxpzPnnS9_s",
        "colab_type": "text"
      },
      "source": [
        "Vemos que estos residuales son aleatorios, hemos hecho un buen fit!"
      ]
    },
    {
      "cell_type": "markdown",
      "metadata": {
        "id": "uOaWo0BNS9_t",
        "colab_type": "text"
      },
      "source": [
        "# Nuestro Regresor Lineal\n",
        "No vamos a usar **scikit**, sinó que vamos crear nosotros mismo el codigo que implemente la regresión lineal. Esto sólo lo haremos con este algoritmo ya que es sencillo y de esta manera quedará la logica de como se entrena un modelo más clara. Y nunca se sabe si tendrás que acabar haciendo algo parecido en un ESP32 por ejemplo...\n",
        "\n",
        "Emperzaremos por con un *toy example*. Los datos que tenemos son los siguientes:"
      ]
    },
    {
      "cell_type": "code",
      "metadata": {
        "id": "A6Au0AG9S9_v",
        "colab_type": "code",
        "colab": {}
      },
      "source": [
        "x_train = np.array([1,2,3,4,5])\n",
        "y_train = np.array([5,7,9,11,13])"
      ],
      "execution_count": 0,
      "outputs": []
    },
    {
      "cell_type": "markdown",
      "metadata": {
        "id": "u1MDGV0ZS9_1",
        "colab_type": "text"
      },
      "source": [
        "Vamos a ver que forma tienen estos datos:"
      ]
    },
    {
      "cell_type": "code",
      "metadata": {
        "id": "KrTbCrvUS-AH",
        "colab_type": "code",
        "colab": {
          "base_uri": "https://localhost:8080/",
          "height": 265
        },
        "outputId": "6ce9f9ee-0ad4-40bb-b4e4-a04096b4835b"
      },
      "source": [
        "plt.plot(x_train,y_train,'.')\n",
        "plt.show()"
      ],
      "execution_count": 22,
      "outputs": [
        {
          "output_type": "display_data",
          "data": {
            "image/png": "[encoded data removed]",
            "text/plain": [
              "<Figure size 432x288 with 1 Axes>"
            ]
          },
          "metadata": {
            "tags": [],
            "needs_background": "light"
          }
        }
      ]
    },
    {
      "cell_type": "markdown",
      "metadata": {
        "id": "CXli2PuLS-Am",
        "colab_type": "text"
      },
      "source": [
        "Es fácil de ver que la recta que cumple esto es: $y = x*m + b = x*2 + 3$. Veamoslo:"
      ]
    },
    {
      "cell_type": "code",
      "metadata": {
        "id": "N1gG4yM8S-An",
        "colab_type": "code",
        "colab": {
          "base_uri": "https://localhost:8080/",
          "height": 265
        },
        "outputId": "8fcd6caa-0ef2-4089-c127-9eceb5a880b1"
      },
      "source": [
        "y = 2*x_train + 3\n",
        "plt.plot(x_train,y,color=\"red\")\n",
        "plt.plot(x_train,y_train,'.')\n",
        "plt.show()"
      ],
      "execution_count": 23,
      "outputs": [
        {
          "output_type": "display_data",
          "data": {
            "image/png": "[encoded data removed]",
            "text/plain": [
              "<Figure size 432x288 with 1 Axes>"
            ]
          },
          "metadata": {
            "tags": [],
            "needs_background": "light"
          }
        }
      ]
    },
    {
      "cell_type": "markdown",
      "metadata": {
        "id": "tfgDKjcXS-Az",
        "colab_type": "text"
      },
      "source": [
        "Vamos ahora a usar MSE y Gradient Desccent para encontrar esta recta:"
      ]
    },
    {
      "cell_type": "code",
      "metadata": {
        "id": "miHrPJtIS-A7",
        "colab_type": "code",
        "colab": {
          "base_uri": "https://localhost:8080/",
          "height": 380
        },
        "outputId": "a1e71ba3-2250-4e87-8b7d-2a4fb229a62c"
      },
      "source": [
        "n = len(x_train)\n",
        "alpha = 0.08\n",
        "\n",
        "a_0 = 0\n",
        "a_1 = 0\n",
        "\n",
        "epochs = 1000\n",
        "\n",
        "for i in range(epochs):\n",
        "    # Calcula el valor y el error que cometemos.\n",
        "    y_predicted = a_0 + a_1 * x_train\n",
        "    error = y_train - y_predicted \n",
        "    \n",
        "    # Calcula el valor de la función de coste.\n",
        "    mean_sq_er = (1/n) * np.sum(error**2)\n",
        "    \n",
        "    # Usamos Gradient Descent para encontrar de manera mas rápida el valor de m y b (a_1 y a_0 respectivamente.)\n",
        "    a_0 = a_0 - alpha * (-2/n) * np.sum(error) \n",
        "    a_1 = a_1 - alpha * (-2/n) * np.sum(error * x_train)\n",
        " \n",
        "    if i%50 ==0 :\n",
        "        print(\"a_1={}, a_0={}, MSE={} iteration{}.\".format(a_1,a_0,mean_sq_er,i))\n",
        "    \n",
        "print(\"a_1={}, a_0={}, MSE={} iteration{}.\".format(a_1,a_0,mean_sq_er,i))"
      ],
      "execution_count": 34,
      "outputs": [
        {
          "output_type": "stream",
          "text": [
            "a_1=4.96, a_0=1.44, MSE=89.0 iteration0.\n",
            "a_1=2.1635786121786147, a_0=2.4411775144956196, MSE=0.06159788433500969 iteration50.\n",
            "a_1=2.039479640528771, a_0=2.8575764123702485, MSE=0.003900706759494133 iteration100.\n",
            "a_1=2.0100148016896013, a_0=2.963843772410581, MSE=0.0002513604320950287 iteration150.\n",
            "a_1=2.00254223474622, a_0=2.9908217272558963, MSE=1.619764814815573e-05 iteration200.\n",
            "a_1=2.000645346732764, a_0=2.9976700935319642, MSE=1.0437752812058797e-06 iteration250.\n",
            "a_1=2.000163821401975, a_0=2.9994085527586343, MSE=6.72608040186699e-08 iteration300.\n",
            "a_1=2.0000415860969474, a_0=2.9998498609948214, MSE=4.334281371345362e-09 iteration350.\n",
            "a_1=2.000010556639356, a_0=2.9999618871823226, MSE=2.7930077970132387e-10 iteration400.\n",
            "a_1=2.0000026798050956, a_0=2.999990325053308, MSE=1.799812215182562e-11 iteration450.\n",
            "a_1=2.0000006802690806, a_0=2.999997544012771, MSE=1.1597976963969667e-12 iteration500.\n",
            "a_1=2.000000172686448, a_0=2.9999993765471316, MSE=7.473728002167482e-14 iteration550.\n",
            "a_1=2.000000043836491, a_0=2.9999998417363587, MSE=4.816065007297071e-15 iteration600.\n",
            "a_1=2.0000000111279017, a_0=2.9999999598247413, MSE=3.103468976661641e-16 iteration650.\n",
            "a_1=2.000000002824821, a_0=2.999999989801503, MSE=1.9998729419109415e-17 iteration700.\n",
            "a_1=2.0000000007170806, a_0=2.9999999974111087, MSE=1.2887172685611294e-18 iteration750.\n",
            "a_1=2.0000000001820313, a_0=2.9999999993428093, MSE=8.304485436369195e-20 iteration800.\n",
            "a_1=2.0000000000462093, a_0=2.9999999998331717, MSE=5.3514340708541024e-21 iteration850.\n",
            "a_1=2.0000000000117297, a_0=2.9999999999576503, MSE=3.4484605325891537e-22 iteration900.\n",
            "a_1=2.0000000000029785, a_0=2.9999999999892495, MSE=2.2223648846873035e-23 iteration950.\n",
            "a_1=2.0000000000007776, a_0=2.999999999997196, MSE=1.5126502520921528e-24 iteration999.\n"
          ],
          "name": "stdout"
        }
      ]
    },
    {
      "cell_type": "markdown",
      "metadata": {
        "id": "elGjrNEdS-Dn",
        "colab_type": "text"
      },
      "source": [
        "## Propuesta\n",
        "Usando el dataset anterior, escojer aleatoriamente 100 puntos y calcular vosotros mismos la Regresión lineal."
      ]
    },
    {
      "cell_type": "code",
      "metadata": {
        "id": "n0s-GqLrS-Dr",
        "colab_type": "code",
        "colab": {}
      },
      "source": [
        ""
      ],
      "execution_count": 0,
      "outputs": []
    }
  ]
}